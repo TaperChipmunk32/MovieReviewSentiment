{
 "cells": [
  {
   "cell_type": "code",
   "execution_count": 26,
   "id": "723ec2d2",
   "metadata": {},
   "outputs": [],
   "source": [
    "with open('corpus.txt', 'r') as f:\n",
    "        corpus = f.read()\n",
    "        f.close()\n",
    "import ast\n",
    "corpus = ast.literal_eval(corpus)\n",
    "%run MovieSentimentsDataCleaning.ipynb\n",
    "data = dataCleaning()\n",
    "np.random.seed(10)\n",
    "remove_n = 5000\n",
    "drop_indices = np.random.choice(data.index, remove_n, replace=False)\n",
    "data = data.drop(drop_indices)\n",
    "indicesList = sorted(drop_indices, reverse=True)\n",
    "for indx in indicesList:\n",
    "    if indx < len(corpus):\n",
    "       corpus.pop(indx)"
   ]
  },
  {
   "cell_type": "code",
   "execution_count": 2,
   "id": "01ee9bf2",
   "metadata": {},
   "outputs": [
    {
     "name": "stdout",
     "output_type": "stream",
     "text": [
      "NB Run 1 Accuracy: 0.494\n",
      "DT Run 1 Accuracy: 0.548\n",
      "NB Run 2 Accuracy: 0.524\n",
      "DT Run 2 Accuracy: 0.568\n",
      "NB Run 3 Accuracy: 0.518\n",
      "DT Run 3 Accuracy: 0.562\n",
      "NB Run 4 Accuracy: 0.506\n",
      "DT Run 4 Accuracy: 0.526\n",
      "NB Run 5 Accuracy: 0.544\n",
      "DT Run 5 Accuracy: 0.544\n",
      "NB Run 6 Accuracy: 0.558\n",
      "DT Run 6 Accuracy: 0.568\n",
      "NB Run 7 Accuracy: 0.512\n",
      "DT Run 7 Accuracy: 0.574\n",
      "NB Run 8 Accuracy: 0.56\n",
      "DT Run 8 Accuracy: 0.552\n",
      "NB Run 9 Accuracy: 0.514\n",
      "DT Run 9 Accuracy: 0.538\n",
      "NB Run 10 Accuracy: 0.53\n",
      "DT Run 10 Accuracy: 0.538\n"
     ]
    },
    {
     "ename": "TypeError",
     "evalue": "split() got an unexpected keyword argument 'random_state'",
     "output_type": "error",
     "traceback": [
      "\u001b[1;31m---------------------------------------------------------------------------\u001b[0m",
      "\u001b[1;31mTypeError\u001b[0m                                 Traceback (most recent call last)",
      "\u001b[1;32m~\\AppData\\Local\\Temp/ipykernel_2668/4794893.py\u001b[0m in \u001b[0;36m<module>\u001b[1;34m\u001b[0m\n\u001b[0;32m      3\u001b[0m \u001b[1;33m\u001b[0m\u001b[0m\n\u001b[0;32m      4\u001b[0m \u001b[0maccuracy_NB\u001b[0m\u001b[1;33m,\u001b[0m \u001b[0maccuracy_DT\u001b[0m \u001b[1;33m=\u001b[0m \u001b[0mrunModels\u001b[0m\u001b[1;33m(\u001b[0m\u001b[0mdata\u001b[0m\u001b[1;33m,\u001b[0m \u001b[0mcorpus\u001b[0m\u001b[1;33m)\u001b[0m\u001b[1;33m\u001b[0m\u001b[1;33m\u001b[0m\u001b[0m\n\u001b[1;32m----> 5\u001b[1;33m \u001b[0maccuracy_FT\u001b[0m \u001b[1;33m=\u001b[0m \u001b[0mfastTextRun\u001b[0m\u001b[1;33m(\u001b[0m\u001b[0mdata\u001b[0m\u001b[1;33m,\u001b[0m \u001b[0mcorpus\u001b[0m\u001b[1;33m)\u001b[0m\u001b[1;33m\u001b[0m\u001b[1;33m\u001b[0m\u001b[0m\n\u001b[0m\u001b[0;32m      6\u001b[0m \u001b[0mprint\u001b[0m\u001b[1;33m(\u001b[0m\u001b[1;34mf'Naive Bayes Accuracies: {accuracy_NB}'\u001b[0m\u001b[1;33m)\u001b[0m\u001b[1;33m\u001b[0m\u001b[1;33m\u001b[0m\u001b[0m\n\u001b[0;32m      7\u001b[0m \u001b[0mprint\u001b[0m\u001b[1;33m(\u001b[0m\u001b[1;34mf'Decision Tree Accuracies: {accuracy_DT}'\u001b[0m\u001b[1;33m)\u001b[0m\u001b[1;33m\u001b[0m\u001b[1;33m\u001b[0m\u001b[0m\n",
      "\u001b[1;32m~\\AppData\\Local\\Temp/ipykernel_2668/1278100585.py\u001b[0m in \u001b[0;36mfastTextRun\u001b[1;34m(data, corpus)\u001b[0m\n\u001b[0;32m      6\u001b[0m     \u001b[0maccuracies\u001b[0m \u001b[1;33m=\u001b[0m \u001b[1;33m[\u001b[0m\u001b[1;33m]\u001b[0m\u001b[1;33m\u001b[0m\u001b[1;33m\u001b[0m\u001b[0m\n\u001b[0;32m      7\u001b[0m     \u001b[0mi\u001b[0m \u001b[1;33m=\u001b[0m \u001b[1;36m1\u001b[0m\u001b[1;33m\u001b[0m\u001b[1;33m\u001b[0m\u001b[0m\n\u001b[1;32m----> 8\u001b[1;33m     \u001b[1;32mfor\u001b[0m \u001b[0mtrain_index\u001b[0m\u001b[1;33m,\u001b[0m \u001b[0mtest_index\u001b[0m \u001b[1;32min\u001b[0m \u001b[0mkf\u001b[0m\u001b[1;33m.\u001b[0m\u001b[0msplit\u001b[0m\u001b[1;33m(\u001b[0m\u001b[0mX\u001b[0m\u001b[1;33m,\u001b[0m \u001b[0mrandom_state\u001b[0m\u001b[1;33m=\u001b[0m\u001b[1;36m42\u001b[0m\u001b[1;33m)\u001b[0m\u001b[1;33m:\u001b[0m\u001b[1;33m\u001b[0m\u001b[1;33m\u001b[0m\u001b[0m\n\u001b[0m\u001b[0;32m      9\u001b[0m         \u001b[0mX_train\u001b[0m\u001b[1;33m,\u001b[0m \u001b[0mX_test\u001b[0m \u001b[1;33m=\u001b[0m \u001b[0mX\u001b[0m\u001b[1;33m[\u001b[0m\u001b[0mtrain_index\u001b[0m\u001b[1;33m]\u001b[0m\u001b[1;33m,\u001b[0m \u001b[0mX\u001b[0m\u001b[1;33m[\u001b[0m\u001b[0mtest_index\u001b[0m\u001b[1;33m]\u001b[0m\u001b[1;33m\u001b[0m\u001b[1;33m\u001b[0m\u001b[0m\n\u001b[0;32m     10\u001b[0m         \u001b[0my_train\u001b[0m\u001b[1;33m,\u001b[0m \u001b[0my_test\u001b[0m \u001b[1;33m=\u001b[0m \u001b[0my\u001b[0m\u001b[1;33m[\u001b[0m\u001b[0mtrain_index\u001b[0m\u001b[1;33m]\u001b[0m\u001b[1;33m,\u001b[0m \u001b[0my\u001b[0m\u001b[1;33m[\u001b[0m\u001b[0mtest_index\u001b[0m\u001b[1;33m]\u001b[0m\u001b[1;33m\u001b[0m\u001b[1;33m\u001b[0m\u001b[0m\n",
      "\u001b[1;31mTypeError\u001b[0m: split() got an unexpected keyword argument 'random_state'"
     ]
    }
   ],
   "source": [
    "%run MovieSentimentsFastText.ipynb\n",
    "%run MovieSentimentsModel.ipynb\n",
    "\n",
    "accuracy_NB, accuracy_DT = runModels(data, corpus)\n",
    "accuracy_FT = fastTextRun(data, corpus)\n",
    "print(f'Naive Bayes Accuracies: {accuracy_NB}')\n",
    "print(f'Decision Tree Accuracies: {accuracy_DT}')\n",
    "print(f'Fast Text Accuracies: {accuracy_FT}')"
   ]
  },
  {
   "cell_type": "code",
   "execution_count": 36,
   "id": "4d9f4304",
   "metadata": {},
   "outputs": [
    {
     "name": "stdout",
     "output_type": "stream",
     "text": [
      "FastText Run 1 Accuracy: 0.576\n",
      "FastText Run 2 Accuracy: 0.596\n",
      "FastText Run 3 Accuracy: 0.606\n",
      "FastText Run 4 Accuracy: 0.634\n",
      "FastText Run 5 Accuracy: 0.566\n",
      "FastText Run 6 Accuracy: 0.598\n",
      "FastText Run 7 Accuracy: 0.602\n",
      "FastText Run 8 Accuracy: 0.558\n",
      "FastText Run 9 Accuracy: 0.588\n",
      "FastText Run 10 Accuracy: 0.576\n",
      "Naive Bayes Accuracies: [0.494, 0.524, 0.518, 0.506, 0.544, 0.558, 0.512, 0.56, 0.514, 0.53]\n",
      "Decision Tree Accuracies: [0.548, 0.568, 0.562, 0.526, 0.544, 0.568, 0.574, 0.552, 0.538, 0.538]\n",
      "Fast Text Accuracies: [0.576, 0.596, 0.606, 0.634, 0.566, 0.598, 0.602, 0.558, 0.588, 0.576]\n"
     ]
    }
   ],
   "source": [
    "%run MovieSentimentsFastText.ipynb\n",
    "accuracy_FT = fastTextRun(data, corpus)\n",
    "print(f'Naive Bayes Accuracies: {accuracy_NB}')\n",
    "print(f'Decision Tree Accuracies: {accuracy_DT}')\n",
    "print(f'Fast Text Accuracies: {accuracy_FT}')"
   ]
  },
  {
   "cell_type": "code",
   "execution_count": 37,
   "id": "a57f5e34",
   "metadata": {},
   "outputs": [
    {
     "name": "stdout",
     "output_type": "stream",
     "text": [
      "Naive Bayes Average Accuracy: 0.526\n",
      "Decision Tree Average Accuracy: 0.5518000000000001\n",
      "Fast Text Average Accuracy: 0.59\n"
     ]
    }
   ],
   "source": [
    "print(f'Naive Bayes Average Accuracy: {sum(accuracy_NB)/len(accuracy_NB)}')\n",
    "print(f'Decision Tree Average Accuracy: {sum(accuracy_DT)/len(accuracy_DT)}')\n",
    "print(f'Fast Text Average Accuracy: {sum(accuracy_FT)/len(accuracy_FT)}')"
   ]
  },
  {
   "cell_type": "code",
   "execution_count": null,
   "id": "cf9768aa",
   "metadata": {},
   "outputs": [],
   "source": []
  }
 ],
 "metadata": {
  "kernelspec": {
   "display_name": "Python 3 (ipykernel)",
   "language": "python",
   "name": "python3"
  },
  "language_info": {
   "codemirror_mode": {
    "name": "ipython",
    "version": 3
   },
   "file_extension": ".py",
   "mimetype": "text/x-python",
   "name": "python",
   "nbconvert_exporter": "python",
   "pygments_lexer": "ipython3",
   "version": "3.9.7"
  }
 },
 "nbformat": 4,
 "nbformat_minor": 5
}
