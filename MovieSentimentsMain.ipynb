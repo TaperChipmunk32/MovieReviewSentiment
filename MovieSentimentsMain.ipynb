{
 "cells": [
  {
   "cell_type": "code",
   "execution_count": null,
   "id": "98f58fab",
   "metadata": {},
   "outputs": [],
   "source": [
    "%run MovieSentimentsDataCleaning.ipynb\n",
    "%run MovieSentimentsFastText.ipynb\n",
    "%run MovieSentimentsModel.ipynb\n",
    "data = dataCleaning()\n",
    "corpus = generateCorpus(data)\n",
    "accuracy_NB, accuracy_DT = runModels(data, corpus)\n",
    "accuracy_FT = fastTextRun(data, corpus)\n",
    "print(f'Naive Bayes Accuracies: {accuracy_NB}')\n",
    "print(f'Decision Tree Accuracies: {accuracy_DT}')\n",
    "print(f'Fast Text Accuracies: {accuracy_FT}')"
   ]
  },
  {
   "cell_type": "code",
   "execution_count": null,
   "id": "01ee9bf2",
   "metadata": {},
   "outputs": [],
   "source": []
  }
 ],
 "metadata": {
  "kernelspec": {
   "display_name": "Python 3 (ipykernel)",
   "language": "python",
   "name": "python3"
  },
  "language_info": {
   "codemirror_mode": {
    "name": "ipython",
    "version": 3
   },
   "file_extension": ".py",
   "mimetype": "text/x-python",
   "name": "python",
   "nbconvert_exporter": "python",
   "pygments_lexer": "ipython3",
   "version": "3.9.7"
  }
 },
 "nbformat": 4,
 "nbformat_minor": 5
}
