{
 "cells": [
  {
   "cell_type": "code",
   "execution_count": 14,
   "id": "723ec2d2",
   "metadata": {},
   "outputs": [],
   "source": [
    "with open('corpus.txt', 'r') as f:\n",
    "        corpus = f.read()\n",
    "        f.close()\n",
    "import ast\n",
    "corpus = ast.literal_eval(corpus)\n",
    "%run MovieSentimentsDataCleaning.ipynb\n",
    "data = dataCleaning()\n",
    "np.random.seed(10)\n",
    "remove_n = 5000\n",
    "drop_indices = np.random.choice(data.index, remove_n, replace=False)\n",
    "data = data.drop(drop_indices)\n",
    "indicesList = sorted(drop_indices, reverse=True)\n",
    "for indx in indicesList:\n",
    "    if indx < len(corpus):\n",
    "       corpus.pop(indx)"
   ]
  },
  {
   "cell_type": "code",
   "execution_count": null,
   "id": "01ee9bf2",
   "metadata": {},
   "outputs": [
    {
     "name": "stdout",
     "output_type": "stream",
     "text": [
      "NB Run 1 Accuracy: 0.494\n",
      "NB Run 1 Accuracy: 0.494\n",
      "NB Run 2 Accuracy: 0.524\n",
      "NB Run 2 Accuracy: 0.524\n",
      "NB Run 3 Accuracy: 0.518\n"
     ]
    }
   ],
   "source": [
    "%run MovieSentimentsFastText.ipynb\n",
    "%run MovieSentimentsModel.ipynb\n",
    "\n",
    "accuracy_NB, accuracy_DT = runModels(data, corpus)\n",
    "accuracy_FT = fastTextRun(data, corpus)\n",
    "print(f'Naive Bayes Accuracies: {accuracy_NB}')\n",
    "print(f'Decision Tree Accuracies: {accuracy_DT}')\n",
    "print(f'Fast Text Accuracies: {accuracy_FT}')"
   ]
  },
  {
   "cell_type": "code",
   "execution_count": null,
   "id": "4d9f4304",
   "metadata": {},
   "outputs": [],
   "source": []
  }
 ],
 "metadata": {
  "kernelspec": {
   "display_name": "Python 3 (ipykernel)",
   "language": "python",
   "name": "python3"
  },
  "language_info": {
   "codemirror_mode": {
    "name": "ipython",
    "version": 3
   },
   "file_extension": ".py",
   "mimetype": "text/x-python",
   "name": "python",
   "nbconvert_exporter": "python",
   "pygments_lexer": "ipython3",
   "version": "3.9.7"
  }
 },
 "nbformat": 4,
 "nbformat_minor": 5
}
