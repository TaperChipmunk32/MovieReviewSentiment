{
 "cells": [
  {
   "cell_type": "code",
   "execution_count": 1,
   "id": "49e7b7a1",
   "metadata": {},
   "outputs": [
    {
     "name": "stderr",
     "output_type": "stream",
     "text": [
      "[nltk_data] Downloading package stopwords to\n",
      "[nltk_data]     C:\\Users\\terry\\AppData\\Roaming\\nltk_data...\n",
      "[nltk_data]   Package stopwords is already up-to-date!\n"
     ]
    }
   ],
   "source": [
    "import numpy as np\n",
    "import pandas as pd\n",
    "import matplotlib.pyplot as plt\n",
    "from wordcloud import WordCloud\n",
    "import re\n",
    "import nltk\n",
    "nltk.download('stopwords')\n",
    "from nltk.corpus import stopwords\n",
    "from nltk.stem.porter import PorterStemmer\n",
    "import itertools"
   ]
  },
  {
   "cell_type": "code",
   "execution_count": 2,
   "id": "d35a77b8",
   "metadata": {},
   "outputs": [],
   "source": [
    "data = pd.read_csv('full_train.csv', on_bad_lines = 'skip', encoding = 'latin-1')\n",
    "data.drop(['Unnamed: 0'], axis=1, inplace=True)\n",
    "#np.random.seed(10)\n",
    "\n",
    "#remove_n = 9000\n",
    "#drop_indices = np.random.choice(data.index, remove_n, replace=False)\n",
    "#data = data.drop(drop_indices)\n",
    "data = data.replace({'<br/>': ' '}, regex=False)"
   ]
  },
  {
   "cell_type": "code",
   "execution_count": 3,
   "id": "7c39f663",
   "metadata": {},
   "outputs": [
    {
     "data": {
      "text/html": [
       "<div>\n",
       "<style scoped>\n",
       "    .dataframe tbody tr th:only-of-type {\n",
       "        vertical-align: middle;\n",
       "    }\n",
       "\n",
       "    .dataframe tbody tr th {\n",
       "        vertical-align: top;\n",
       "    }\n",
       "\n",
       "    .dataframe thead th {\n",
       "        text-align: right;\n",
       "    }\n",
       "</style>\n",
       "<table border=\"1\" class=\"dataframe\">\n",
       "  <thead>\n",
       "    <tr style=\"text-align: right;\">\n",
       "      <th></th>\n",
       "      <th>review</th>\n",
       "      <th>category</th>\n",
       "    </tr>\n",
       "  </thead>\n",
       "  <tbody>\n",
       "    <tr>\n",
       "      <th>0</th>\n",
       "      <td>I like the shepherd! Sure the acting wasn ' t ...</td>\n",
       "      <td>0</td>\n",
       "    </tr>\n",
       "    <tr>\n",
       "      <th>1</th>\n",
       "      <td>Girst off, I ' m an American - - I haven ' t s...</td>\n",
       "      <td>1</td>\n",
       "    </tr>\n",
       "    <tr>\n",
       "      <th>2</th>\n",
       "      <td>I'm a sucker for a decent superhero movie. (I'...</td>\n",
       "      <td>0</td>\n",
       "    </tr>\n",
       "    <tr>\n",
       "      <th>3</th>\n",
       "      <td>D4ad Gentlemen Productionx has put togethdr a ...</td>\n",
       "      <td>1</td>\n",
       "    </tr>\n",
       "    <tr>\n",
       "      <th>4</th>\n",
       "      <td>I have decided to flusJ this show from my m#mo...</td>\n",
       "      <td>1</td>\n",
       "    </tr>\n",
       "  </tbody>\n",
       "</table>\n",
       "</div>"
      ],
      "text/plain": [
       "                                              review  category\n",
       "0  I like the shepherd! Sure the acting wasn ' t ...         0\n",
       "1  Girst off, I ' m an American - - I haven ' t s...         1\n",
       "2  I'm a sucker for a decent superhero movie. (I'...         0\n",
       "3  D4ad Gentlemen Productionx has put togethdr a ...         1\n",
       "4  I have decided to flusJ this show from my m#mo...         1"
      ]
     },
     "execution_count": 3,
     "metadata": {},
     "output_type": "execute_result"
    }
   ],
   "source": [
    "data.head()"
   ]
  },
  {
   "cell_type": "code",
   "execution_count": 4,
   "id": "97e3d716",
   "metadata": {},
   "outputs": [
    {
     "data": {
      "image/png": "[encoded data removed]",
      "text/plain": [
       "<Figure size 432x288 with 1 Axes>"
      ]
     },
     "metadata": {},
     "output_type": "display_data"
    }
   ],
   "source": [
    "# generate a pie chart showing the distribution of the two classes\n",
    "pos_size = data[data['category']==1].shape[0]\n",
    "neg_size = data[data['category']==0].shape[0]\n",
    "labels = 'Positive', 'Negative'\n",
    "sizes = [pos_size, neg_size]\n",
    "explode = (0.2, 0)  # only \"explode\" the 1st slice (i.e. 'Spam')\n",
    "\n",
    "fig1, ax1 = plt.subplots()\n",
    "ax1.pie(sizes, explode=explode, labels=labels, autopct='%1.1f%%',\n",
    "        shadow=True, startangle=90)\n",
    "ax1.axis('equal')  # Equal aspect ratio ensures that pie is drawn as a circle.\n",
    "\n",
    "plt.show()"
   ]
  },
  {
   "cell_type": "code",
   "execution_count": 31,
   "id": "9fcd4275",
   "metadata": {},
   "outputs": [],
   "source": [
    "def generateCorpus(data):\n",
    "    corpus = []\n",
    "    for i in range(0, len(data)): # iterates through all texts\n",
    "        # substitute anything that's not a letter (i.e.punctuations) with space\n",
    "        text = re.sub('[^a-zA-Z]', ' ', data['review'].iloc[i])\n",
    "\n",
    "        # convert to lowercase\n",
    "        text = text.lower()\n",
    "\n",
    "        # split the text into a list of individual words\n",
    "        text = text.split()\n",
    "        ps = PorterStemmer() # python library for stemming words\n",
    "\n",
    "        # create list to store the stemmed words\n",
    "        stemmedWord = []\n",
    "        for word in text:\n",
    "            if not word in set(stopwords.words('english')): # ignore stopwords\n",
    "                stemmedWord.append(ps.stem(word))\n",
    "\n",
    "        # join the words in stemmedWord list back together to form a string (with spaces between them)\n",
    "        text = ' '.join(stemmedWord)\n",
    "\n",
    "        # add the processed text to corpus \n",
    "        corpus.append(text)\n",
    "    return corpus"
   ]
  },
  {
   "cell_type": "code",
   "execution_count": null,
   "id": "10661b92",
   "metadata": {},
   "outputs": [],
   "source": [
    "posCorpus = generateCorpus(data[data['category']==1])\n",
    "negCorpus = generateCorpus(data[data['category']==0])"
   ]
  },
  {
   "cell_type": "code",
   "execution_count": null,
   "id": "5b2c1e90",
   "metadata": {},
   "outputs": [],
   "source": [
    "text = ' '.join(posCorpus)\n",
    "fig_wordcloud = WordCloud(width = 3000, height = 2000).generate(text)\n",
    "plt.figure(figsize=(15,5), frameon=True)\n",
    "plt.imshow(fig_wordcloud)  \n",
    "plt.axis('off')\n",
    "plt.tight_layout(pad=0)\n",
    "plt.title(\"Positive Reviews\", fontsize=20)\n",
    "plt.show()"
   ]
  },
  {
   "cell_type": "code",
   "execution_count": null,
   "id": "bbc671ad",
   "metadata": {},
   "outputs": [],
   "source": [
    "text = ' '.join(negCorpus)\n",
    "fig_wordcloud = WordCloud(width = 3000, height = 2000).generate(text)\n",
    "plt.figure(figsize=(15,5), frameon=True)\n",
    "plt.imshow(fig_wordcloud)  \n",
    "plt.axis('off')\n",
    "plt.tight_layout(pad=0)\n",
    "plt.title(\"Negative Reviews\", fontsize=20)\n",
    "plt.show()"
   ]
  },
  {
   "cell_type": "code",
   "execution_count": null,
   "id": "442f2a2d",
   "metadata": {},
   "outputs": [],
   "source": [
    "# histogram of length of the messages for the class 'Positive'\n",
    "\n",
    "posCorpusLengths = (lambda x:[len(i) for i in x])(posCorpus)\n",
    "plt.hist(posCorpusLengths, 50)\n",
    "plt.title('Histogram of text length for Positive Reviews')\n",
    "plt.xlabel('Length')\n",
    "plt.ylabel('Count')\n",
    "plt.show()\n",
    "\n",
    "# histogram of length of the messages for the class 'Negative'\n",
    "negCorpusLengths = (lambda x:[len(i) for i in x])(negCorpus)\n",
    "plt.hist(negCorpusLengths, 50)\n",
    "plt.title('Histogram of text length for Negative Reviews')\n",
    "plt.xlabel('Length')\n",
    "plt.ylabel('Count')\n",
    "plt.show()"
   ]
  },
  {
   "cell_type": "code",
   "execution_count": null,
   "id": "95158c70",
   "metadata": {},
   "outputs": [],
   "source": [
    "plt.hist(posCorpusLengths, bins=100, alpha=0.5, label='pos')\n",
    "plt.hist(negCorpusLengths, bins=100, alpha=0.5, label='neg')\n",
    "plt.legend(loc='upper right')\n",
    "plt.show()"
   ]
  },
  {
   "cell_type": "code",
   "execution_count": null,
   "id": "efe4542a",
   "metadata": {},
   "outputs": [],
   "source": [
    "len(posCorpus)"
   ]
  },
  {
   "cell_type": "code",
   "execution_count": null,
   "id": "5af7b3fc",
   "metadata": {},
   "outputs": [],
   "source": []
  }
 ],
 "metadata": {
  "kernelspec": {
   "display_name": "Python 3 (ipykernel)",
   "language": "python",
   "name": "python3"
  },
  "language_info": {
   "codemirror_mode": {
    "name": "ipython",
    "version": 3
   },
   "file_extension": ".py",
   "mimetype": "text/x-python",
   "name": "python",
   "nbconvert_exporter": "python",
   "pygments_lexer": "ipython3",
   "version": "3.9.7"
  }
 },
 "nbformat": 4,
 "nbformat_minor": 5
}
