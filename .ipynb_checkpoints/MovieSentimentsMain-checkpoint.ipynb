{
 "cells": [
  {
   "cell_type": "code",
   "execution_count": 1,
   "id": "fee35677",
   "metadata": {},
   "outputs": [],
   "source": [
    "import numpy as np\n",
    "import matplotlib.pyplot as plt\n",
    "import ast\n",
    "from tabulate import tabulate"
   ]
  },
  {
   "cell_type": "code",
   "execution_count": 2,
   "id": "723ec2d2",
   "metadata": {},
   "outputs": [],
   "source": [
    "with open('corpus.txt', 'r') as f:\n",
    "        corpus = f.read()\n",
    "        f.close()\n",
    "corpus = ast.literal_eval(corpus)\n",
    "%run MovieSentimentsDataCleaning.ipynb\n",
    "data = dataCleaning()\n",
    "'''np.random.seed(10)\n",
    "remove_n = 5000\n",
    "drop_indices = np.random.choice(data.index, remove_n, replace=False)\n",
    "data = data.drop(drop_indices)\n",
    "indicesList = sorted(drop_indices, reverse=True)\n",
    "for indx in indicesList:\n",
    "    if indx < len(corpus):\n",
    "       corpus.pop(indx)'''"
   ]
  },
  {
   "cell_type": "code",
   "execution_count": 3,
   "id": "01ee9bf2",
   "metadata": {},
   "outputs": [
    {
     "name": "stdout",
     "output_type": "stream",
     "text": [
      "NB Run 1 Accuracy: 0.494\n",
      "DT Run 1 Accuracy: 0.548\n",
      "NB Run 2 Accuracy: 0.524\n",
      "DT Run 2 Accuracy: 0.568\n",
      "NB Run 3 Accuracy: 0.518\n",
      "DT Run 3 Accuracy: 0.562\n",
      "NB Run 4 Accuracy: 0.506\n",
      "DT Run 4 Accuracy: 0.526\n",
      "NB Run 5 Accuracy: 0.544\n",
      "DT Run 5 Accuracy: 0.544\n",
      "NB Run 6 Accuracy: 0.558\n",
      "DT Run 6 Accuracy: 0.568\n",
      "NB Run 7 Accuracy: 0.512\n",
      "DT Run 7 Accuracy: 0.574\n",
      "NB Run 8 Accuracy: 0.56\n",
      "DT Run 8 Accuracy: 0.552\n",
      "NB Run 9 Accuracy: 0.514\n",
      "DT Run 9 Accuracy: 0.538\n",
      "NB Run 10 Accuracy: 0.53\n",
      "DT Run 10 Accuracy: 0.538\n",
      "FastText Run 1 Accuracy: 0.576\n",
      "FastText Run 2 Accuracy: 0.594\n",
      "FastText Run 3 Accuracy: 0.606\n",
      "FastText Run 4 Accuracy: 0.634\n",
      "FastText Run 5 Accuracy: 0.568\n",
      "FastText Run 6 Accuracy: 0.6\n",
      "FastText Run 7 Accuracy: 0.6\n",
      "FastText Run 8 Accuracy: 0.558\n",
      "FastText Run 9 Accuracy: 0.59\n",
      "FastText Run 10 Accuracy: 0.576\n",
      "Naive Bayes Accuracies: [0.494, 0.524, 0.518, 0.506, 0.544, 0.558, 0.512, 0.56, 0.514, 0.53]\n",
      "Decision Tree Accuracies: [0.548, 0.568, 0.562, 0.526, 0.544, 0.568, 0.574, 0.552, 0.538, 0.538]\n",
      "Fast Text Accuracies: [0.576, 0.594, 0.606, 0.634, 0.568, 0.6, 0.6, 0.558, 0.59, 0.576]\n"
     ]
    }
   ],
   "source": [
    "%run MovieSentimentsFastText.ipynb\n",
    "%run MovieSentimentsModel.ipynb\n",
    "\n",
    "NB_accuracies, NB_matrices, DT_accuracies, DT_matrices = runModels(data, corpus)\n",
    "FT_accuracies, FT_precisions, FT_recalls = fastTextRun(data, corpus)\n",
    "print(f'Naive Bayes Accuracies: {NB_accuracies}')\n",
    "print(f'Decision Tree Accuracies: {DT_accuracies}')\n",
    "print(f'Fast Text Accuracies: {FT_accuracies}')"
   ]
  },
  {
   "cell_type": "code",
   "execution_count": 4,
   "id": "a57f5e34",
   "metadata": {},
   "outputs": [
    {
     "name": "stdout",
     "output_type": "stream",
     "text": [
      "Naive Bayes Average Accuracy: 0.526\n",
      "Decision Tree Average Accuracy: 0.5518000000000001\n",
      "Fast Text Average Accuracy: 0.5902\n"
     ]
    }
   ],
   "source": [
    "NB_accuracy = sum(NB_accuracies)/len(NB_accuracies)\n",
    "DT_accuracy = sum(DT_accuracies)/len(DT_accuracies)\n",
    "FT_accuracy = sum(FT_accuracies)/len(FT_accuracies)\n",
    "print(f'Naive Bayes Average Accuracy: {NB_accuracy}')\n",
    "print(f'Decision Tree Average Accuracy: {DT_accuracy}')\n",
    "print(f'Fast Text Average Accuracy: {FT_accuracy}')"
   ]
  },
  {
   "cell_type": "code",
   "execution_count": 5,
   "id": "4e00aa03",
   "metadata": {},
   "outputs": [
    {
     "data": {
      "image/png": "[encoded data removed]",
      "text/plain": [
       "<Figure size 432x288 with 1 Axes>"
      ]
     },
     "metadata": {
      "needs_background": "light"
     },
     "output_type": "display_data"
    }
   ],
   "source": [
    "#Author: Isaac Bland\n",
    "runs = ['1','2','3','4','5','6','7','8','9','10']\n",
    "X_axis = np.arange(len(runs))\n",
    "\n",
    "ax = plt.gca()\n",
    "ax.set_ylim([0,1])\n",
    "plt.bar(X_axis - 0.2, NB_accuracies, 0.4, label='GNB')\n",
    "plt.bar(X_axis, DT_accuracies, 0.4, label='DT')\n",
    "plt.bar(X_axis + 0.2, FT_accuracies, 0.4, label='FT')\n",
    "\n",
    "plt.xticks(X_axis, runs)\n",
    "plt.xlabel(\"Run Number\")\n",
    "plt.ylabel(\"Accuracy\")\n",
    "plt.title(\"Accuracy Comparison of the Three Models Over the 10 Runs\")\n",
    "plt.legend()\n",
    "plt.show()"
   ]
  },
  {
   "cell_type": "code",
   "execution_count": 6,
   "id": "6939a930",
   "metadata": {},
   "outputs": [],
   "source": [
    "def plot_confusion_matrix(cm, classes, normalize=False, title='Confusion matrix', cmap=plt.cm.Blues):\n",
    "    plt.imshow(cm, interpolation='nearest', cmap=cmap)\n",
    "    plt.title(title)\n",
    "    plt.colorbar()\n",
    "    tick_marks = np.arange(len(classes))\n",
    "    plt.xticks(tick_marks, classes, rotation=45)\n",
    "    plt.yticks(tick_marks, classes)\n",
    "    fmt = '.2f' if normalize else 'd'\n",
    "    thresh = cm.max() / 2\n",
    "    for i, j in itertools.product(range(cm.shape[0]), range(cm.shape[1])):\n",
    "        plt.text(j, i, format(cm[i, j], fmt), horizontalalignment=\"center\", color=\"white\" if cm[i, j] > thresh else \"black\")\n",
    "        plt.tight_layout()\n",
    "        plt.ylabel('True label')\n",
    "        plt.xlabel('Predicted label')"
   ]
  },
  {
   "cell_type": "code",
   "execution_count": null,
   "id": "6be8aa5e",
   "metadata": {
    "scrolled": false
   },
   "outputs": [],
   "source": [
    "class_names = ['good', 'bad']\n",
    "NB_precisions = []\n",
    "NB_recalls = []\n",
    "for cnf_matrix in NB_matrices:\n",
    "    plt.figure()\n",
    "    tn, fp, fn, tp = cnf_matrix.ravel() \n",
    "    NB_precisions.append(tp / (tp + fp))\n",
    "    NB_recalls.append(tp / (tp + fn))\n",
    "    plot_confusion_matrix(cnf_matrix, classes=class_names, title=\"Naive Bayes Confusion Matrix\")\n",
    "    plt.show()\n",
    "\n",
    "DT_precisions = []\n",
    "DT_recalls = []\n",
    "for cnf_matrix in DT_matrices:\n",
    "    plt.figure()\n",
    "    tn, fp, fn, tp = cnf_matrix.ravel() \n",
    "    DT_precisions.append(tp / (tp + fp))\n",
    "    DT_recalls.append(tp / (tp + fn))\n",
    "    plot_confusion_matrix(cnf_matrix, classes=class_names, title=\"Decision Tree Confusion Matrix\")\n",
    "    plt.show()"
   ]
  },
  {
   "cell_type": "code",
   "execution_count": 8,
   "id": "c05d17f8",
   "metadata": {},
   "outputs": [
    {
     "name": "stdout",
     "output_type": "stream",
     "text": [
      "Naive Bayes Average Precision: 0.5338113207203357\n",
      "Decision Tree Average Precision: 0.537871204812934\n",
      "Fast Text Average Precision: 0.5916843699388885\n",
      "Naive Bayes Average Recall: 0.48447762870878586\n",
      "Decision Tree Average Recall: 0.7929756940413687\n",
      "Fast Text Average Recall: nan\n"
     ]
    }
   ],
   "source": [
    "NB_precision = sum(NB_precisions)/len(NB_precisions)\n",
    "DT_precision = sum(DT_precisions)/len(DT_precisions)\n",
    "FT_precision = sum(FT_precisions)/len(FT_precisions)\n",
    "print(f'Naive Bayes Average Precision: {NB_precision}')\n",
    "print(f'Decision Tree Average Precision: {DT_precision}')\n",
    "print(f'Fast Text Average Precision: {FT_precision}')\n",
    "\n",
    "NB_recall = sum(NB_recalls)/len(NB_recalls)\n",
    "DT_recall = sum(DT_recalls)/len(DT_recalls)\n",
    "FT_recall = sum(FT_recalls)/len(FT_recalls)\n",
    "print(f'Naive Bayes Average Recall: {NB_recall}')\n",
    "print(f'Decision Tree Average Recall: {DT_recall}')\n",
    "print(f'Fast Text Average Recall: {FT_recall}')"
   ]
  },
  {
   "cell_type": "code",
   "execution_count": 9,
   "id": "a147fe17",
   "metadata": {},
   "outputs": [
    {
     "name": "stdout",
     "output_type": "stream",
     "text": [
      "╒═══════════════╤════════════╤═════════════╤════════════╕\n",
      "│ Model         │   Accuracy │   Precision │     Recall │\n",
      "╞═══════════════╪════════════╪═════════════╪════════════╡\n",
      "│ Naive Bayes   │     0.526  │    0.533811 │   0.484478 │\n",
      "├───────────────┼────────────┼─────────────┼────────────┤\n",
      "│ Decision Tree │     0.5518 │    0.537871 │   0.792976 │\n",
      "├───────────────┼────────────┼─────────────┼────────────┤\n",
      "│ Fast Text     │     0.5902 │    0.591684 │ nan        │\n",
      "╘═══════════════╧════════════╧═════════════╧════════════╛\n"
     ]
    }
   ],
   "source": [
    "#Author: Isaac Bland\n",
    "table = [['Model', 'Accuracy', 'Precision', 'Recall'], ['Naive Bayes', NB_accuracy, NB_precision, NB_recall], ['Decision Tree', DT_accuracy, DT_precision, DT_recall], ['Fast Text', FT_accuracy, FT_precision, FT_recall]]\n",
    "print(tabulate(table, headers='firstrow', tablefmt='fancy_grid'))"
   ]
  },
  {
   "cell_type": "code",
   "execution_count": null,
   "id": "2e954194",
   "metadata": {},
   "outputs": [],
   "source": []
  }
 ],
 "metadata": {
  "kernelspec": {
   "display_name": "Python 3 (ipykernel)",
   "language": "python",
   "name": "python3"
  },
  "language_info": {
   "codemirror_mode": {
    "name": "ipython",
    "version": 3
   },
   "file_extension": ".py",
   "mimetype": "text/x-python",
   "name": "python",
   "nbconvert_exporter": "python",
   "pygments_lexer": "ipython3",
   "version": "3.9.7"
  }
 },
 "nbformat": 4,
 "nbformat_minor": 5
}
