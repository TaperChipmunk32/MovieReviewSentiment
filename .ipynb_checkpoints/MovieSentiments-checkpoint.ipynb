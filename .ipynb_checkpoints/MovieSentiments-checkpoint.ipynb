{
 "cells": [
  {
   "cell_type": "code",
   "execution_count": 13,
   "id": "55a2c1a6",
   "metadata": {},
   "outputs": [],
   "source": [
    "import csv\n",
    "import fasttext\n",
    "import pandas as pd\n",
    "from sklearn.model_selection import train_test_split"
   ]
  },
  {
   "cell_type": "code",
   "execution_count": 14,
   "id": "ac1c96ee",
   "metadata": {},
   "outputs": [],
   "source": [
    "def process_csv(df, output_name, output_folder):\n",
    "    df.loc[:, 'text'] = '__label__' + df['category'].astype(str) + ' ' + df['review']\n",
    "    output_file = f'{output_folder}/{output_name}.txt'\n",
    "    df[['text']].to_csv(output_file, index=False, header=False, \n",
    "                quoting=csv.QUOTE_NONE,  quotechar=\"\",  escapechar=\"\\\\\")\n",
    "    return output_file"
   ]
  },
  {
   "cell_type": "code",
   "execution_count": 15,
   "id": "980e8df8",
   "metadata": {},
   "outputs": [],
   "source": [
    "def train_model(df, df_test, output_folder):\n",
    "    output_file = process_csv(df, 'train', output_folder)\n",
    "    output_file_test = process_csv(df_test, 'test', output_folder)\n",
    "    model = fasttext.train_supervised(\n",
    "        input=output_file, lr=0.1, epoch=20, wordNgrams=2)\n",
    "    results = model.test(output_file_test)\n",
    "    accuracy = results[1]\n",
    "    return accuracy"
   ]
  },
  {
   "cell_type": "code",
   "execution_count": 25,
   "id": "85d36fd6",
   "metadata": {},
   "outputs": [
    {
     "data": {
      "text/plain": [
       "0.6088"
      ]
     },
     "execution_count": 25,
     "metadata": {},
     "output_type": "execute_result"
    }
   ],
   "source": [
    "df = pd.read_csv('full_train.csv', on_bad_lines = 'skip', encoding = 'latin-1')\n",
    "X = df['review']\n",
    "y = df['category']\n",
    "X_train, X_test, y_train, y_test = train_test_split(X, y, test_size=0.20, random_state=42)\n",
    "train_df = pd.concat([X_train, y_train], axis=1)\n",
    "test_df = pd.concat([X_test, y_test], axis=1)\n",
    "train_df.head()\n",
    "train_model(train_df, test_df, \"Output\")"
   ]
  },
  {
   "cell_type": "code",
   "execution_count": null,
   "id": "cd01ebfd",
   "metadata": {},
   "outputs": [],
   "source": []
  }
 ],
 "metadata": {
  "kernelspec": {
   "display_name": "Python 3 (ipykernel)",
   "language": "python",
   "name": "python3"
  },
  "language_info": {
   "codemirror_mode": {
    "name": "ipython",
    "version": 3
   },
   "file_extension": ".py",
   "mimetype": "text/x-python",
   "name": "python",
   "nbconvert_exporter": "python",
   "pygments_lexer": "ipython3",
   "version": "3.9.7"
  }
 },
 "nbformat": 4,
 "nbformat_minor": 5
}
