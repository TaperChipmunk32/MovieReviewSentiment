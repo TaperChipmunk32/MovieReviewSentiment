{
 "cells": [
  {
   "cell_type": "code",
   "execution_count": null,
   "id": "ddeef94c",
   "metadata": {},
   "outputs": [],
   "source": [
    "import numpy as np\n",
    "import pandas as pd\n",
    "import matplotlib.pyplot as plt\n",
    "import re\n",
    "import nltk\n",
    "nltk.download('stopwords')\n",
    "from nltk.corpus import stopwords\n",
    "from nltk.stem.porter import PorterStemmer\n",
    "import itertools"
   ]
  },
  {
   "cell_type": "code",
   "execution_count": null,
   "id": "da5f7b3e",
   "metadata": {},
   "outputs": [],
   "source": [
    "def dataCleaning():\n",
    "    data = pd.read_csv('full_train.csv', on_bad_lines = 'skip', encoding = 'latin-1')\n",
    "    data.drop(['Unnamed: 0'], axis=1, inplace=True)\n",
    "\n",
    "    #np.random.seed(10)\n",
    "    #remove_n = 9000\n",
    "    #drop_indices = np.random.choice(data.index, remove_n, replace=False)\n",
    "    #data = data.drop(drop_indices)\n",
    "\n",
    "    def remove_html(string):\n",
    "        return regex.sub('', string)\n",
    "    regex = re.compile(r'<[^>]+>')\n",
    "\n",
    "    for i, row in data.iterrows():\n",
    "        data.at[i,'review'] = remove_html(data.at[i, 'review'])\n",
    "    return data"
   ]
  },
  {
   "cell_type": "code",
   "execution_count": null,
   "id": "c20834ef",
   "metadata": {},
   "outputs": [],
   "source": [
    "def generateCorpus(data):\n",
    "    corpus = []\n",
    "    for i in range(0, len(data)): # iterates through all texts\n",
    "        # substitute anything that's not a letter (i.e.punctuations) with space\n",
    "        text = re.sub('[^a-zA-Z][0-9]', ' ', data['review'].iloc[i])\n",
    "\n",
    "        # convert to lowercase\n",
    "        text = text.lower()\n",
    "\n",
    "        # split the text into a list of individual words\n",
    "        text = text.split()\n",
    "        ps = PorterStemmer() # python library for stemming words\n",
    "\n",
    "        # create list to store the stemmed words\n",
    "        stemmedWord = []\n",
    "        for word in text:\n",
    "            if not word in set(stopwords.words('english')): # ignore stopwords\n",
    "                stemmedWord.append(ps.stem(word))\n",
    "\n",
    "        # join the words in stemmedWord list back together to form a string (with spaces between them)\n",
    "        text = ' '.join(stemmedWord)\n",
    "\n",
    "        # add the processed text to corpus \n",
    "        corpus.append(text)\n",
    "    return corpus"
   ]
  }
 ],
 "metadata": {
  "kernelspec": {
   "display_name": "Python 3 (ipykernel)",
   "language": "python",
   "name": "python3"
  },
  "language_info": {
   "codemirror_mode": {
    "name": "ipython",
    "version": 3
   },
   "file_extension": ".py",
   "mimetype": "text/x-python",
   "name": "python",
   "nbconvert_exporter": "python",
   "pygments_lexer": "ipython3",
   "version": "3.9.7"
  }
 },
 "nbformat": 4,
 "nbformat_minor": 5
}
